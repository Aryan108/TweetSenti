{
 "cells": [
  {
   "cell_type": "code",
   "execution_count": 1,
   "metadata": {
    "id": "ikem7mhrx8zS"
   },
   "outputs": [
    {
     "name": "stdout",
     "output_type": "stream",
     "text": [
      "time: 15 ms (started: 2021-05-15 02:39:45 +05:30)\n"
     ]
    }
   ],
   "source": [
    "import os\n",
    "import numpy as np\n",
    "import matplotlib.pyplot as plt\n",
    "import tensorflow as tf\n",
    "from tensorflow.keras.regularizers import l1_l2\n",
    "from tensorflow.keras.callbacks import EarlyStopping, TensorBoard\n",
    "from tensorboard.plugins import projector\n",
    "AUTOTUNE = tf.data.experimental.AUTOTUNE\n",
    "tf.executing_eagerly()\n",
    "%load_ext autotime\n",
    "%load_ext tensorboard"
   ]
  },
  {
   "cell_type": "code",
   "execution_count": 2,
   "metadata": {},
   "outputs": [
    {
     "name": "stdout",
     "output_type": "stream",
     "text": [
      "time: 0 ns (started: 2021-05-15 02:39:45 +05:30)\n"
     ]
    }
   ],
   "source": [
    "def plot_graphs(hist,metric):\n",
    "    plt.plot(hist.history[metric])\n",
    "    plt.plot(hist.history['val_'+metric])\n",
    "    plt.legend([metric,'val_'+metric])"
   ]
  },
  {
   "cell_type": "code",
   "execution_count": 3,
   "metadata": {},
   "outputs": [
    {
     "name": "stdout",
     "output_type": "stream",
     "text": [
      "time: 0 ns (started: 2021-05-15 02:39:45 +05:30)\n"
     ]
    }
   ],
   "source": [
    "buffer_size = 1024\n",
    "batch_size = 128\n",
    "\n",
    "data_size = 1600000\n",
    "trunc_size = data_size//2 # reduced data size\n",
    "train_size = int(0.7 * trunc_size )"
   ]
  },
  {
   "cell_type": "code",
   "execution_count": 4,
   "metadata": {},
   "outputs": [
    {
     "name": "stdout",
     "output_type": "stream",
     "text": [
      "time: 0 ns (started: 2021-05-15 02:39:45 +05:30)\n"
     ]
    }
   ],
   "source": [
    "\n",
    "# Create a dictionary describing the features.\n",
    "image_feature_description = {\n",
    "    'feature1': tf.io.FixedLenFeature([], tf.int64), # label\n",
    "    'feature2': tf.io.FixedLenFeature([],tf.string) # text\n",
    "}\n",
    "\n",
    "def _parse_function(example_proto):\n",
    "        \n",
    "  # Parse the input tf.train.Example proto using the dictionary above.\n",
    "    example = tf.io.parse_single_example(example_proto, image_feature_description)\n",
    "    label = example['feature1']\n",
    "    text = example['feature2']\n",
    "    \n",
    "    return (text,label)\n",
    "\n",
    "def get_dataset(filename, set_type): # function to produce dataset\n",
    "    ignore_order = tf.data.Options()\n",
    "    ignore_order.experimental_deterministic = False # disable native order, increase speed\n",
    "    dataset = tf.data.TFRecordDataset(filename)\n",
    "    dataset = dataset.take(trunc_size)\n",
    "    \n",
    "    dataset = dataset.with_options(\n",
    "        ignore_order\n",
    "    )\n",
    "    dataset = dataset.map(_parse_function, num_parallel_calls=AUTOTUNE).cache()\n",
    "    \n",
    "    if set_type == \"train\":\n",
    "        dataset = dataset.take(train_size)\n",
    "        dataset = dataset.shuffle(buffer_size, reshuffle_each_iteration=True)\n",
    "        dataset = dataset.batch(batch_size)\n",
    "        dataset = dataset.prefetch(buffer_size=AUTOTUNE)        \n",
    "        \n",
    "    elif set_type == \"test\":\n",
    "        dataset = dataset.skip(train_size)\n",
    "        dataset = dataset.batch(batch_size)\n",
    "        dataset = dataset.prefetch(buffer_size=AUTOTUNE)\n",
    "        \n",
    "    return dataset"
   ]
  },
  {
   "cell_type": "code",
   "execution_count": 5,
   "metadata": {},
   "outputs": [
    {
     "name": "stdout",
     "output_type": "stream",
     "text": [
      "time: 2.47 s (started: 2021-05-15 02:39:45 +05:30)\n"
     ]
    }
   ],
   "source": [
    "train_dataset = get_dataset(\"data.tfrecord\",\"train\")\n",
    "test_dataset = get_dataset(\"data.tfrecord\",\"test\")"
   ]
  },
  {
   "cell_type": "code",
   "execution_count": 6,
   "metadata": {},
   "outputs": [
    {
     "name": "stdout",
     "output_type": "stream",
     "text": [
      "time: 15.2 s (started: 2021-05-15 02:39:47 +05:30)\n"
     ]
    }
   ],
   "source": [
    "vocab_size=10000 # no. of unique words to be trained on\n",
    "encoder = tf.keras.layers.experimental.preprocessing.TextVectorization( # text vectorization layer [text --> int]\n",
    "    max_tokens=vocab_size,output_mode=\"int\")\n",
    "encoder.adapt(train_dataset.map(lambda text, label: text)) # understand the text"
   ]
  },
  {
   "cell_type": "code",
   "execution_count": 7,
   "metadata": {},
   "outputs": [
    {
     "data": {
      "text/plain": [
       "9999"
      ]
     },
     "execution_count": 7,
     "metadata": {},
     "output_type": "execute_result"
    },
    {
     "name": "stdout",
     "output_type": "stream",
     "text": [
      "time: 16 ms (started: 2021-05-15 02:40:03 +05:30)\n"
     ]
    }
   ],
   "source": [
    "len(encoder.get_vocabulary())"
   ]
  },
  {
   "cell_type": "markdown",
   "metadata": {},
   "source": [
    "# Modelling"
   ]
  },
  {
   "cell_type": "code",
   "execution_count": 18,
   "metadata": {
    "id": "iONX5qu75Zpe",
    "scrolled": true
   },
   "outputs": [
    {
     "name": "stdout",
     "output_type": "stream",
     "text": [
      "time: 3.49 s (started: 2021-05-15 03:03:08 +05:30)\n"
     ]
    }
   ],
   "source": [
    "\n",
    "model = tf.keras.Sequential( [\n",
    "    tf.keras.Input(shape=(1,), dtype=tf.string),\n",
    "    encoder,\n",
    "    tf.keras.layers.Embedding(input_dim=vocab_size+1,output_dim=128,mask_zero=True),\n",
    "    tf.keras.layers.Bidirectional(tf.keras.layers.LSTM(64,  return_sequences=True)),\n",
    "    tf.keras.layers.Bidirectional(tf.keras.layers.LSTM(32)),\n",
    "\n",
    "    tf.keras.layers.Dense(32, activation='relu'),\n",
    "    tf.keras.layers.Dropout(0.2),\n",
    "    tf.keras.layers.Dense(32, activation='relu'),\n",
    "    tf.keras.layers.Dropout(0.2),\n",
    "\n",
    "    tf.keras.layers.Dense(1)\n",
    "])"
   ]
  },
  {
   "cell_type": "code",
   "execution_count": 19,
   "metadata": {},
   "outputs": [
    {
     "name": "stdout",
     "output_type": "stream",
     "text": [
      "Model: \"sequential_4\"\n",
      "_________________________________________________________________\n",
      "Layer (type)                 Output Shape              Param #   \n",
      "=================================================================\n",
      "text_vectorization (TextVect (None, None)              0         \n",
      "_________________________________________________________________\n",
      "embedding_4 (Embedding)      (None, None, 128)         1280128   \n",
      "_________________________________________________________________\n",
      "bidirectional_8 (Bidirection (None, None, 128)         98816     \n",
      "_________________________________________________________________\n",
      "bidirectional_9 (Bidirection (None, 64)                41216     \n",
      "_________________________________________________________________\n",
      "dense_12 (Dense)             (None, 32)                2080      \n",
      "_________________________________________________________________\n",
      "dropout_8 (Dropout)          (None, 32)                0         \n",
      "_________________________________________________________________\n",
      "dense_13 (Dense)             (None, 32)                1056      \n",
      "_________________________________________________________________\n",
      "dropout_9 (Dropout)          (None, 32)                0         \n",
      "_________________________________________________________________\n",
      "dense_14 (Dense)             (None, 1)                 33        \n",
      "=================================================================\n",
      "Total params: 1,423,329\n",
      "Trainable params: 1,423,329\n",
      "Non-trainable params: 0\n",
      "_________________________________________________________________\n",
      "time: 16 ms (started: 2021-05-15 03:03:12 +05:30)\n"
     ]
    }
   ],
   "source": [
    "model.compile(loss=tf.keras.losses.BinaryCrossentropy(from_logits=True),\n",
    "              optimizer=tf.keras.optimizers.Adam(1e-4),\n",
    "              metrics=['accuracy'])\n",
    "# Callbacks\n",
    "early_stop = EarlyStopping(monitor='val_accuracy', mode='max', verbose=1, patience=5) # stop training if no change after 5 epochs\n",
    "tboard = TensorBoard(log_dir=\"logs/scalars\",histogram_freq=1)\n",
    "\n",
    "model.summary()"
   ]
  },
  {
   "cell_type": "code",
   "execution_count": 20,
   "metadata": {
    "id": "EQUxRKi474p_"
   },
   "outputs": [
    {
     "name": "stdout",
     "output_type": "stream",
     "text": [
      "Epoch 1/25\n",
      "4375/4375 [==============================] - 203s 46ms/step - loss: 0.4769 - accuracy: 0.7587 - val_loss: 0.4468 - val_accuracy: 0.7792\n",
      "Epoch 2/25\n",
      "4375/4375 [==============================] - 198s 45ms/step - loss: 0.4313 - accuracy: 0.7927 - val_loss: 0.4389 - val_accuracy: 0.7878\n",
      "Epoch 3/25\n",
      "4375/4375 [==============================] - 199s 46ms/step - loss: 0.4186 - accuracy: 0.7978 - val_loss: 0.4333 - val_accuracy: 0.7927\n",
      "Epoch 4/25\n",
      "4375/4375 [==============================] - 192s 44ms/step - loss: 0.4078 - accuracy: 0.8029 - val_loss: 0.4304 - val_accuracy: 0.7906\n",
      "Epoch 5/25\n",
      "4375/4375 [==============================] - 191s 44ms/step - loss: 0.3982 - accuracy: 0.8086 - val_loss: 0.4288 - val_accuracy: 0.7904\n",
      "Epoch 6/25\n",
      "4375/4375 [==============================] - 189s 43ms/step - loss: 0.3889 - accuracy: 0.8148 - val_loss: 0.4285 - val_accuracy: 0.7964\n",
      "Epoch 7/25\n",
      "4375/4375 [==============================] - 189s 43ms/step - loss: 0.3807 - accuracy: 0.8201 - val_loss: 0.4304 - val_accuracy: 0.7956\n",
      "Epoch 8/25\n",
      "4375/4375 [==============================] - 189s 43ms/step - loss: 0.3724 - accuracy: 0.8249 - val_loss: 0.4319 - val_accuracy: 0.8003\n",
      "Epoch 9/25\n",
      "4375/4375 [==============================] - 189s 43ms/step - loss: 0.3646 - accuracy: 0.8302 - val_loss: 0.4422 - val_accuracy: 0.7984\n",
      "Epoch 10/25\n",
      "4375/4375 [==============================] - 189s 43ms/step - loss: 0.3564 - accuracy: 0.8352 - val_loss: 0.4453 - val_accuracy: 0.7969\n",
      "Epoch 11/25\n",
      "4375/4375 [==============================] - 189s 43ms/step - loss: 0.3485 - accuracy: 0.8400 - val_loss: 0.4578 - val_accuracy: 0.7982\n",
      "Epoch 12/25\n",
      "4375/4375 [==============================] - 189s 43ms/step - loss: 0.3411 - accuracy: 0.8446 - val_loss: 0.4701 - val_accuracy: 0.7995\n",
      "Epoch 13/25\n",
      "4375/4375 [==============================] - 190s 43ms/step - loss: 0.3332 - accuracy: 0.8490 - val_loss: 0.4821 - val_accuracy: 0.7945\n",
      "Epoch 00013: early stopping\n",
      "time: 41min 52s (started: 2021-05-15 03:03:20 +05:30)\n"
     ]
    }
   ],
   "source": [
    "history = model.fit(train_dataset, epochs=25,\n",
    "                    validation_data=test_dataset, \n",
    "                    validation_steps=30,callbacks=[early_stop])"
   ]
  },
  {
   "cell_type": "code",
   "execution_count": 21,
   "metadata": {},
   "outputs": [
    {
     "data": {
      "image/png": "[encoded data removed]",
      "text/plain": [
       "<Figure size 432x288 with 1 Axes>"
      ]
     },
     "metadata": {
      "needs_background": "light"
     },
     "output_type": "display_data"
    },
    {
     "name": "stdout",
     "output_type": "stream",
     "text": [
      "time: 344 ms (started: 2021-05-15 11:05:02 +05:30)\n"
     ]
    }
   ],
   "source": [
    "plot_graphs(history,'accuracy')"
   ]
  },
  {
   "cell_type": "code",
   "execution_count": 22,
   "metadata": {},
   "outputs": [
    {
     "data": {
      "image/png": "[encoded data removed]",
      "text/plain": [
       "<Figure size 432x288 with 1 Axes>"
      ]
     },
     "metadata": {
      "needs_background": "light"
     },
     "output_type": "display_data"
    },
    {
     "name": "stdout",
     "output_type": "stream",
     "text": [
      "time: 156 ms (started: 2021-05-15 11:05:03 +05:30)\n"
     ]
    }
   ],
   "source": [
    "plot_graphs(history,'loss')"
   ]
  },
  {
   "cell_type": "code",
   "execution_count": 23,
   "metadata": {},
   "outputs": [
    {
     "name": "stdout",
     "output_type": "stream",
     "text": [
      "8125/8125 [==============================] - 110s 14ms/step - loss: 0.4715 - accuracy: 0.7978\n"
     ]
    },
    {
     "data": {
      "text/plain": [
       "[0.4714767634868622, 0.7978336811065674]"
      ]
     },
     "execution_count": 23,
     "metadata": {},
     "output_type": "execute_result"
    },
    {
     "name": "stdout",
     "output_type": "stream",
     "text": [
      "time: 2min (started: 2021-05-15 11:05:07 +05:30)\n"
     ]
    }
   ],
   "source": [
    "model.evaluate(test_dataset)"
   ]
  },
  {
   "cell_type": "code",
   "execution_count": 24,
   "metadata": {},
   "outputs": [
    {
     "name": "stdout",
     "output_type": "stream",
     "text": [
      "[[4.592119]]\n",
      "time: 7.64 s (started: 2021-05-15 11:07:08 +05:30)\n"
     ]
    }
   ],
   "source": [
    "sample_text = ('amazing night!!!')\n",
    "predictions = model.predict(np.array([sample_text]))\n",
    "print(predictions)\n"
   ]
  },
  {
   "cell_type": "code",
   "execution_count": null,
   "metadata": {},
   "outputs": [],
   "source": []
  }
 ],
 "metadata": {
  "colab": {
   "collapsed_sections": [],
   "name": "senti.ipynb",
   "provenance": []
  },
  "kernelspec": {
   "display_name": "Python 3.7.7 64-bit",
   "language": "python",
   "name": "python37764bitaf7a2e010b6b4857b85a8dd3c5443383"
  },
  "language_info": {
   "codemirror_mode": {
    "name": "ipython",
    "version": 3
   },
   "file_extension": ".py",
   "mimetype": "text/x-python",
   "name": "python",
   "nbconvert_exporter": "python",
   "pygments_lexer": "ipython3",
   "version": "3.7.7"
  }
 },
 "nbformat": 4,
 "nbformat_minor": 1
}
