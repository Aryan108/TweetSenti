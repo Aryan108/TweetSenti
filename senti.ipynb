{
 "cells": [
  {
   "cell_type": "code",
   "execution_count": 1,
   "metadata": {
    "id": "ikem7mhrx8zS"
   },
   "outputs": [],
   "source": [
    "import numpy as np\n",
    "import pandas as pd\n",
    "import re\n",
    "import matplotlib.pyplot as plt\n",
    "import tensorflow as tf\n",
    "from tensorflow.keras.regularizers import l1,l2\n",
    "from tensorflow.keras.callbacks import EarlyStopping"
   ]
  },
  {
   "cell_type": "code",
   "execution_count": 2,
   "metadata": {
    "id": "YWlZbYxa4l86"
   },
   "outputs": [],
   "source": [
    "data = pd.read_csv(\"./training.1600000.processed.noemoticon.csv\",index_col=False\n",
    "                 ,names=[\"senti\",\"id\",\"date\",\"Q\",\"twitter_id\",\"texts\"]) # read csv file"
   ]
  },
  {
   "cell_type": "code",
   "execution_count": 3,
   "metadata": {},
   "outputs": [
    {
     "data": {
      "text/plain": [
       "1600000"
      ]
     },
     "execution_count": 3,
     "metadata": {},
     "output_type": "execute_result"
    }
   ],
   "source": [
    "len(data)"
   ]
  },
  {
   "cell_type": "markdown",
   "metadata": {},
   "source": [
    "size of dataset = 1.6million"
   ]
  },
  {
   "cell_type": "code",
   "execution_count": 4,
   "metadata": {},
   "outputs": [
    {
     "data": {
      "text/html": [
       "<div>\n",
       "<style scoped>\n",
       "    .dataframe tbody tr th:only-of-type {\n",
       "        vertical-align: middle;\n",
       "    }\n",
       "\n",
       "    .dataframe tbody tr th {\n",
       "        vertical-align: top;\n",
       "    }\n",
       "\n",
       "    .dataframe thead th {\n",
       "        text-align: right;\n",
       "    }\n",
       "</style>\n",
       "<table border=\"1\" class=\"dataframe\">\n",
       "  <thead>\n",
       "    <tr style=\"text-align: right;\">\n",
       "      <th></th>\n",
       "      <th>senti</th>\n",
       "      <th>texts</th>\n",
       "    </tr>\n",
       "  </thead>\n",
       "  <tbody>\n",
       "    <tr>\n",
       "      <th>853074</th>\n",
       "      <td>4</td>\n",
       "      <td>@metaglyph NP  good luck with that!</td>\n",
       "    </tr>\n",
       "    <tr>\n",
       "      <th>1042685</th>\n",
       "      <td>4</td>\n",
       "      <td>@aplusk http://twitpic.com/65gj0 - What's with...</td>\n",
       "    </tr>\n",
       "    <tr>\n",
       "      <th>311265</th>\n",
       "      <td>0</td>\n",
       "      <td>SNAFU: mixup on the seller's part and they're ...</td>\n",
       "    </tr>\n",
       "    <tr>\n",
       "      <th>633980</th>\n",
       "      <td>0</td>\n",
       "      <td>i have such a horrible headache!! someone help</td>\n",
       "    </tr>\n",
       "    <tr>\n",
       "      <th>1180426</th>\n",
       "      <td>4</td>\n",
       "      <td>Bouncing on the trampoline   http://twitpic.co...</td>\n",
       "    </tr>\n",
       "  </tbody>\n",
       "</table>\n",
       "</div>"
      ],
      "text/plain": [
       "         senti                                              texts\n",
       "853074       4                @metaglyph NP  good luck with that!\n",
       "1042685      4  @aplusk http://twitpic.com/65gj0 - What's with...\n",
       "311265       0  SNAFU: mixup on the seller's part and they're ...\n",
       "633980       0    i have such a horrible headache!! someone help \n",
       "1180426      4  Bouncing on the trampoline   http://twitpic.co..."
      ]
     },
     "execution_count": 4,
     "metadata": {},
     "output_type": "execute_result"
    }
   ],
   "source": [
    "df = data[[\"senti\",\"texts\"]].copy() #seperate text and labels\n",
    "df=df.sample(frac=1) # shuffle data\n",
    "df.head()"
   ]
  },
  {
   "cell_type": "markdown",
   "metadata": {},
   "source": [
    "# Data cleaning"
   ]
  },
  {
   "cell_type": "code",
   "execution_count": 5,
   "metadata": {},
   "outputs": [],
   "source": [
    "df['senti'] = df['senti'].replace(4, 1) # replace 4 with 1\n",
    "labels = np.array(df['senti']) # labels [ 0 or 1]\n",
    "texts = np.array(df['texts']) # tweets [string]\n"
   ]
  },
  {
   "cell_type": "code",
   "execution_count": 6,
   "metadata": {},
   "outputs": [],
   "source": [
    "for text in texts:\n",
    "    text = re.sub(r\"(?:\\@|https?\\://)\\S+\", \"\", text) # remove hashtags, mentions and urls"
   ]
  },
  {
   "cell_type": "markdown",
   "metadata": {},
   "source": [
    "# Pipelining data"
   ]
  },
  {
   "cell_type": "code",
   "execution_count": 7,
   "metadata": {
    "scrolled": true
   },
   "outputs": [
    {
     "name": "stdout",
     "output_type": "stream",
     "text": [
      "text:  b'@metaglyph NP  good luck with that!'\n",
      "label:  1\n"
     ]
    }
   ],
   "source": [
    "char_dataset = tf.data.Dataset.from_tensor_slices((texts,labels)) # TF Dataset\n",
    "for example, label in char_dataset.take(1):\n",
    "    print('text: ', example.numpy())\n",
    "    print('label: ', label.numpy())"
   ]
  },
  {
   "cell_type": "code",
   "execution_count": 8,
   "metadata": {},
   "outputs": [],
   "source": [
    "data_size = len(df)\n",
    "train_size = int(0.7 * data_size )\n",
    "test_size = int(0.3 * data_size )\n",
    "\n",
    "train_data = char_dataset.take(train_size)\n",
    "test_data = char_dataset.skip(train_size)"
   ]
  },
  {
   "cell_type": "code",
   "execution_count": 9,
   "metadata": {},
   "outputs": [],
   "source": [
    "buffer_size = 1000\n",
    "batch_size = 512\n",
    "\n",
    "train_data = train_data.shuffle(buffer_size).batch(batch_size)\n",
    "test_data = test_data.batch(batch_size)"
   ]
  },
  {
   "cell_type": "code",
   "execution_count": 10,
   "metadata": {},
   "outputs": [],
   "source": [
    "vocab_size=10000 # no. of unique words to be trained on\n",
    "max_len = 280 # max tweet length\n",
    "encoder = tf.keras.layers.experimental.preprocessing.TextVectorization( # text vectorization layer [text --> int]\n",
    "    max_tokens=vocab_size,output_mode=\"int\",output_sequence_length=max_len)\n",
    "encoder.adapt(train_data.map(lambda text, label: text)) # understand the text"
   ]
  },
  {
   "cell_type": "code",
   "execution_count": 11,
   "metadata": {
    "scrolled": true
   },
   "outputs": [
    {
     "name": "stdout",
     "output_type": "stream",
     "text": [
      "texts:  [b'@awomansworld Sun Chips are a daily fave for me  #Fab15'\n",
      " b\"&quot;we're misting each other!&quot; I'm bored already  but jose looks good in that pic.\"\n",
      " b'at work again  i so wish i had a job worth being excited about.']\n",
      "\n",
      "labels:  [1 0 0]\n"
     ]
    }
   ],
   "source": [
    "for example, label in train_data.take(1):\n",
    "    print('texts: ', example.numpy()[:3])\n",
    "    print()\n",
    "    print('labels: ', label.numpy()[:3])\n",
    " "
   ]
  },
  {
   "cell_type": "code",
   "execution_count": 12,
   "metadata": {},
   "outputs": [
    {
     "data": {
      "text/plain": [
       "9999"
      ]
     },
     "execution_count": 12,
     "metadata": {},
     "output_type": "execute_result"
    }
   ],
   "source": [
    "vocab = np.array(encoder.get_vocabulary())\n",
    "len(vocab)"
   ]
  },
  {
   "cell_type": "markdown",
   "metadata": {},
   "source": [
    "# Modelling"
   ]
  },
  {
   "cell_type": "code",
   "execution_count": 13,
   "metadata": {
    "id": "iONX5qu75Zpe"
   },
   "outputs": [],
   "source": [
    "model = tf.keras.Sequential( [\n",
    "    encoder,\n",
    "    tf.keras.layers.Embedding(input_dim=vocab_size+1,output_dim=32,mask_zero=True),\n",
    "    tf.keras.layers.Bidirectional(tf.keras.layers.LSTM(32,kernel_regularizer=l2(0.01))),\n",
    "    tf.keras.layers.Dense(16, activation='relu',kernel_regularizer=l2(0.01)),\n",
    "    tf.keras.layers.Dropout(0.2),\n",
    "    \n",
    "    tf.keras.layers.Dense(1)\n",
    "])\n",
    "\n",
    "model.compile(loss=tf.keras.losses.BinaryCrossentropy(from_logits=True),\n",
    "              optimizer=tf.keras.optimizers.Adam(1e-4),\n",
    "              metrics=['accuracy'])\n",
    "early_stop = EarlyStopping(monitor='val_accuracy', mode='max', verbose=1, patience=5) # stop training if no change after 5 epochs\n"
   ]
  },
  {
   "cell_type": "code",
   "execution_count": 14,
   "metadata": {
    "id": "EQUxRKi474p_"
   },
   "outputs": [
    {
     "name": "stdout",
     "output_type": "stream",
     "text": [
      "Epoch 1/10\n",
      "2188/2188 [==============================] - 129s 59ms/step - loss: 0.9521 - accuracy: 0.6666 - val_loss: 0.5572 - val_accuracy: 0.7589\n",
      "Epoch 2/10\n",
      "2188/2188 [==============================] - 125s 57ms/step - loss: 0.5177 - accuracy: 0.7688 - val_loss: 0.4994 - val_accuracy: 0.7817\n",
      "Epoch 3/10\n",
      "2188/2188 [==============================] - 121s 55ms/step - loss: 0.4896 - accuracy: 0.7806 - val_loss: 0.4840 - val_accuracy: 0.7853\n",
      "Epoch 4/10\n",
      "2188/2188 [==============================] - 126s 57ms/step - loss: 0.4766 - accuracy: 0.7857 - val_loss: 0.4746 - val_accuracy: 0.7890\n",
      "Epoch 5/10\n",
      "2188/2188 [==============================] - 121s 55ms/step - loss: 0.4674 - accuracy: 0.7885 - val_loss: 0.4671 - val_accuracy: 0.7878\n",
      "Epoch 6/10\n",
      "2188/2188 [==============================] - 121s 55ms/step - loss: 0.4607 - accuracy: 0.7908 - val_loss: 0.4619 - val_accuracy: 0.7876\n",
      "Epoch 7/10\n",
      "2188/2188 [==============================] - 121s 55ms/step - loss: 0.4560 - accuracy: 0.7919 - val_loss: 0.4581 - val_accuracy: 0.7884\n",
      "Epoch 8/10\n",
      "2188/2188 [==============================] - 121s 55ms/step - loss: 0.4525 - accuracy: 0.7928 - val_loss: 0.4553 - val_accuracy: 0.7894\n",
      "Epoch 9/10\n",
      "2188/2188 [==============================] - 122s 56ms/step - loss: 0.4495 - accuracy: 0.7935 - val_loss: 0.4529 - val_accuracy: 0.7897\n",
      "Epoch 10/10\n",
      "2188/2188 [==============================] - 121s 55ms/step - loss: 0.4470 - accuracy: 0.7940 - val_loss: 0.4509 - val_accuracy: 0.7891\n"
     ]
    }
   ],
   "source": [
    "history = model.fit(train_data, epochs=10,\n",
    "                    validation_data=test_data, \n",
    "                    validation_steps=30,callbacks=early_stop)"
   ]
  },
  {
   "cell_type": "code",
   "execution_count": 15,
   "metadata": {},
   "outputs": [],
   "source": [
    "import matplotlib.pyplot as plt\n",
    "def plot_graphs(hist,metric):\n",
    "    plt.plot(hist.history[metric])\n",
    "    plt.plot(hist.history['val_'+metric])\n",
    "    plt.legend([metric,'val_'+metric])"
   ]
  },
  {
   "cell_type": "code",
   "execution_count": 16,
   "metadata": {},
   "outputs": [
    {
     "data": {
      "image/png": "[encoded data removed]",
      "text/plain": [
       "<Figure size 432x288 with 1 Axes>"
      ]
     },
     "metadata": {
      "needs_background": "light"
     },
     "output_type": "display_data"
    }
   ],
   "source": [
    "plot_graphs(history,'accuracy')"
   ]
  },
  {
   "cell_type": "code",
   "execution_count": 17,
   "metadata": {},
   "outputs": [
    {
     "data": {
      "image/png": "[encoded data removed]",
      "text/plain": [
       "<Figure size 432x288 with 1 Axes>"
      ]
     },
     "metadata": {
      "needs_background": "light"
     },
     "output_type": "display_data"
    }
   ],
   "source": [
    "plot_graphs(history,'loss')"
   ]
  },
  {
   "cell_type": "code",
   "execution_count": null,
   "metadata": {},
   "outputs": [],
   "source": []
  }
 ],
 "metadata": {
  "colab": {
   "collapsed_sections": [],
   "name": "senti.ipynb",
   "provenance": []
  },
  "kernelspec": {
   "display_name": "Python 3.7.7 64-bit",
   "language": "python",
   "name": "python37764bitaf7a2e010b6b4857b85a8dd3c5443383"
  },
  "language_info": {
   "codemirror_mode": {
    "name": "ipython",
    "version": 3
   },
   "file_extension": ".py",
   "mimetype": "text/x-python",
   "name": "python",
   "nbconvert_exporter": "python",
   "pygments_lexer": "ipython3",
   "version": "3.7.7"
  }
 },
 "nbformat": 4,
 "nbformat_minor": 1
}
